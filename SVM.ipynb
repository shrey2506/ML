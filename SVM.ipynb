{
 "cells": [
  {
   "cell_type": "code",
   "execution_count": 11,
   "metadata": {},
   "outputs": [
    {
     "name": "stdout",
     "output_type": "stream",
     "text": [
      "  35   5\n",
      "   4  47\n",
      "False Positives\n",
      " [4 5]\n",
      "False Negetives\n",
      " [5 4]\n",
      "True Positives\n",
      " [35 47]\n",
      "True Negetives\n",
      " [47 35]\n",
      "Sensitivity \n",
      " [0.875      0.92156863]\n",
      "Specificity \n",
      " [0.92156863 0.875     ]\n",
      "Precision \n",
      " [0.8974359  0.90384615]\n",
      "Recall \n",
      " [0.875      0.92156863]\n",
      "Áccuracy \n",
      "[0.9010989 0.9010989]\n",
      "FScore \n",
      "[0.88607595 0.91262136]\n"
     ]
    }
   ],
   "source": [
    "import pandas as pd\n",
    "import numpy as np\n",
    "import matplotlib.pyplot as plt\n",
    "from sklearn.model_selection import train_test_split # Import train_test_split function\n",
    "from sklearn import svm #Import svm model\n",
    "from sklearn import metrics #Import scikit-learn metrics module for accuracy calculation\n",
    "from sklearn.metrics import confusion_matrix\n",
    "\n",
    "data = pd.read_csv(\"heart.csv\")\n",
    "\n",
    "x = data.drop('target',axis = 1) \n",
    "y = data.target\n",
    "\n",
    "#split the test set and train set\n",
    "x_train, x_test, y_train, y_test = train_test_split(x, y, test_size=0.3,random_state=109) # 70% training and 30% test\n",
    "\n",
    "\n",
    "\n",
    "#Create a svm Classifier\n",
    "ml = svm.SVC(kernel='linear') # Linear Kernel\n",
    "\n",
    "#Train the model using the training sets\n",
    "ml.fit(x_train, y_train)\n",
    "\n",
    "#Predict the response for test dataset\n",
    "y_pred = ml.predict(x_test)\n",
    "\n",
    "\n",
    "# Model Accuracy: how often is the classifier correct?\n",
    "#print(ml.score(x_test,y_test))\n",
    "cm = confusion_matrix(y_test,y_pred)\n",
    "print('\\n'.join([''.join(['{:4}'.format(item) for item in row]) for row in cm]))\n",
    "                \n",
    "FP = cm.sum(axis=0) - np.diag(cm)\n",
    "FN = cm.sum(axis=1) - np.diag(cm)\n",
    "TP = np.diag(cm)\n",
    "TN = cm.sum() - (FP + FN + TP)\n",
    "print('False Positives\\n {}'.format(FP))\n",
    "print('False Negetives\\n {}'.format(FN))\n",
    "print('True Positives\\n {}'.format(TP))\n",
    "print('True Negetives\\n {}'.format(TN))\n",
    "TPR = TP/(TP+FN)\n",
    "print('Sensitivity \\n {}'.format(TPR))\n",
    "TNR = TN/(TN+FP)\n",
    "print('Specificity \\n {}'.format(TNR))\n",
    "Precision = TP/(TP+FP)\n",
    "print('Precision \\n {}'.format(Precision))\n",
    "Recall = TP/(TP+FN)\n",
    "print('Recall \\n {}'.format(Recall))\n",
    "Acc = (TP+TN)/(TP+TN+FP+FN)\n",
    "print('Áccuracy \\n{}'.format(Acc))\n",
    "Fscore = 2*(Precision*Recall)/(Precision+Recall)\n",
    "print('FScore \\n{}'.format(Fscore))\n",
    "\n"
   ]
  },
  {
   "cell_type": "code",
   "execution_count": null,
   "metadata": {},
   "outputs": [],
   "source": []
  }
 ],
 "metadata": {
  "kernelspec": {
   "display_name": "Python 3",
   "language": "python",
   "name": "python3"
  },
  "language_info": {
   "codemirror_mode": {
    "name": "ipython",
    "version": 3
   },
   "file_extension": ".py",
   "mimetype": "text/x-python",
   "name": "python",
   "nbconvert_exporter": "python",
   "pygments_lexer": "ipython3",
   "version": "3.8.3"
  }
 },
 "nbformat": 4,
 "nbformat_minor": 4
}
